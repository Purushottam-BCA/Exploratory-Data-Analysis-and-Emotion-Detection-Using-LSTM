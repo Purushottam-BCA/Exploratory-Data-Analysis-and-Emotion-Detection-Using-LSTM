{
 "cells": [
  {
   "cell_type": "markdown",
   "id": "1ef71d0d",
   "metadata": {},
   "source": [
    "# 5 Stages in Natural Language Processing:\n",
    "\n",
    "- Lexical Analysis : Tokenization , Stopwords\n",
    "- Syntactic Analysis : Arrangement of words to make sense - Stemming, Lemmatization\n",
    "- Semantic Analysis : Finding meaningful word or Feature Extraction\n",
    "- Discourse Integration : Mapping word impact on sentence context\n",
    "- Pragmatic Analysis : Deriving insights from text data and understand the context"
   ]
  },
  {
   "cell_type": "markdown",
   "id": "21b98639",
   "metadata": {},
   "source": [
    "### RNN - Major Issue [Vanishing gradient]\n",
    "- RNN is a type of supervised deep learning algorithm. Here, the neurons are connected to themselves through time. The idea behind RNN is to remember what information was there in the previous neurons so that these neurons could pass information to themselves in the future for further analysis. It means that the information from a specific time instance (t1) is used as an input for the next time instance(t2). This is the idea behind RNN\n",
    "\n",
    "<img src =\"RNN_Issue.jpg\">"
   ]
  },
  {
   "cell_type": "markdown",
   "id": "2699eb87",
   "metadata": {},
   "source": [
    "### LSTM [ Long Short Term Memory ]\n",
    "- LSTM is an updated version of Recurrent Neural Network to overcome the vanishing gradient problem.\n",
    "- LSTMs are explicitly designed to avoid the long-term dependency problem. Remembering information for long periods of time is practically their default behavior, not something they struggle to learn!\n",
    "\n",
    "- <img src =\"https://editor.analyticsvidhya.com/uploads/41131ss%20(2).jpg\">\n",
    "\n",
    "- It has a memory cell at the top which helps to carry the information from a particular time instance to the next time instance in an efficient manner. So, it can able to remember a lot of information from previous states when compared to RNN and overcomes the vanishing gradient problem. Information might be added or removed from the memory cell with the help of valves.\n",
    "\n",
    "- LSTM network is fed by input data from the current time instance and output of hidden layer from the previous time instance. These two data passes through various activation functions and valves in the network before reaching the output."
   ]
  },
  {
   "cell_type": "code",
   "execution_count": 1,
   "id": "e921300f",
   "metadata": {
    "_cell_guid": "b1076dfc-b9ad-4769-8c92-a6c4dae69d19",
    "_uuid": "8f2839f25d086af736a60e9eeb907d3b93b6e0e5",
    "execution": {
     "iopub.execute_input": "2022-03-15T20:48:25.958407Z",
     "iopub.status.busy": "2022-03-15T20:48:25.956888Z",
     "iopub.status.idle": "2022-03-15T20:48:31.638116Z",
     "shell.execute_reply": "2022-03-15T20:48:31.637346Z",
     "shell.execute_reply.started": "2022-03-15T20:45:19.911157Z"
    },
    "papermill": {
     "duration": 5.699518,
     "end_time": "2022-03-15T20:48:31.638301",
     "exception": false,
     "start_time": "2022-03-15T20:48:25.938783",
     "status": "completed"
    },
    "tags": []
   },
   "outputs": [],
   "source": [
    "import re\n",
    "import string\n",
    "import numpy as np\n",
    "import pandas as pd\n",
    "import matplotlib.pyplot as plt\n",
    "import seaborn as sns\n",
    "from sklearn.preprocessing import LabelEncoder\n",
    "from sklearn.model_selection import train_test_split"
   ]
  },
  {
   "cell_type": "code",
   "execution_count": null,
   "id": "1b3839bf",
   "metadata": {},
   "outputs": [],
   "source": [
    "from tensorflow.keras.utils import to_categorical\n",
    "from tensorflow.keras.preprocessing.text import Tokenizer\n",
    "from tensorflow.keras.preprocessing.sequence import pad_sequences\n",
    "from tensorflow.keras.optimizers import Adam\n",
    "from tensorflow.keras.models import Sequential\n",
    "from tensorflow.keras.callbacks import EarlyStopping\n",
    "from tensorflow.keras.layers import Dense, LSTM, Embedding, Dropout, Activation, Conv1D, MaxPooling1D"
   ]
  },
  {
   "cell_type": "markdown",
   "id": "e500b4ca",
   "metadata": {},
   "source": [
    "##### Reading Dataset\n",
    "\n",
    "- I have taken 3 different dataset\n",
    "    -   Train.txt - The model sees and learns from this data.\n",
    "    -   Val.txt - provide an unbiased evaluation of a model fit on the training dataset while tuning model hyperparameters.\n",
    "    -   Test.txt -  provide an unbiased evaluation of a final model fit on the training dataset.\n",
    "\n",
    "<img src=\"https://labelyourdata.com/img/article-illustrations/splitting-data-set.png\" width = \"700\">\n",
    "\n",
    "<img width=\"450\" src=\"https://assets-global.website-files.com/5d7b77b063a9066d83e1209c/61568656a13218cdde7f6166_training-data-validation-test.png\">"
   ]
  },
  {
   "cell_type": "code",
   "execution_count": 2,
   "id": "0f0d353c",
   "metadata": {
    "execution": {
     "iopub.execute_input": "2022-03-15T20:48:31.705410Z",
     "iopub.status.busy": "2022-03-15T20:48:31.704839Z",
     "iopub.status.idle": "2022-03-15T20:48:31.861499Z",
     "shell.execute_reply": "2022-03-15T20:48:31.860881Z",
     "shell.execute_reply.started": "2022-03-15T20:46:24.837794Z"
    },
    "papermill": {
     "duration": 0.177214,
     "end_time": "2022-03-15T20:48:31.861631",
     "exception": false,
     "start_time": "2022-03-15T20:48:31.684417",
     "status": "completed"
    },
    "tags": []
   },
   "outputs": [],
   "source": [
    "df_train = pd.read_csv('../dataset/train.txt', names=['Text', 'Emotion'], sep=';')\n",
    "df_test = pd.read_csv('../dataset/test.txt', names=['Text', 'Emotion'], sep=';')\n",
    "df_val = pd.read_csv('../dataset/val.txt', names=['Text', 'Emotion'], sep=';')"
   ]
  },
  {
   "cell_type": "code",
   "execution_count": 3,
   "id": "661ff8ad",
   "metadata": {},
   "outputs": [
    {
     "data": {
      "text/html": [
       "<div>\n",
       "<style scoped>\n",
       "    .dataframe tbody tr th:only-of-type {\n",
       "        vertical-align: middle;\n",
       "    }\n",
       "\n",
       "    .dataframe tbody tr th {\n",
       "        vertical-align: top;\n",
       "    }\n",
       "\n",
       "    .dataframe thead th {\n",
       "        text-align: right;\n",
       "    }\n",
       "</style>\n",
       "<table border=\"1\" class=\"dataframe\">\n",
       "  <thead>\n",
       "    <tr style=\"text-align: right;\">\n",
       "      <th></th>\n",
       "      <th>Text</th>\n",
       "      <th>Emotion</th>\n",
       "    </tr>\n",
       "  </thead>\n",
       "  <tbody>\n",
       "    <tr>\n",
       "      <th>0</th>\n",
       "      <td>i didnt feel humiliated</td>\n",
       "      <td>sadness</td>\n",
       "    </tr>\n",
       "    <tr>\n",
       "      <th>1</th>\n",
       "      <td>i can go from feeling so hopeless to so damned...</td>\n",
       "      <td>sadness</td>\n",
       "    </tr>\n",
       "    <tr>\n",
       "      <th>2</th>\n",
       "      <td>im grabbing a minute to post i feel greedy wrong</td>\n",
       "      <td>anger</td>\n",
       "    </tr>\n",
       "    <tr>\n",
       "      <th>3</th>\n",
       "      <td>i am ever feeling nostalgic about the fireplac...</td>\n",
       "      <td>love</td>\n",
       "    </tr>\n",
       "    <tr>\n",
       "      <th>4</th>\n",
       "      <td>i am feeling grouchy</td>\n",
       "      <td>anger</td>\n",
       "    </tr>\n",
       "  </tbody>\n",
       "</table>\n",
       "</div>"
      ],
      "text/plain": [
       "                                                Text  Emotion\n",
       "0                            i didnt feel humiliated  sadness\n",
       "1  i can go from feeling so hopeless to so damned...  sadness\n",
       "2   im grabbing a minute to post i feel greedy wrong    anger\n",
       "3  i am ever feeling nostalgic about the fireplac...     love\n",
       "4                               i am feeling grouchy    anger"
      ]
     },
     "execution_count": 3,
     "metadata": {},
     "output_type": "execute_result"
    }
   ],
   "source": [
    "df_train.head()"
   ]
  },
  {
   "cell_type": "markdown",
   "id": "48702e96",
   "metadata": {},
   "source": [
    "##### Pre-Processing of Dataset"
   ]
  },
  {
   "cell_type": "code",
   "execution_count": 4,
   "id": "99f2aec1",
   "metadata": {
    "execution": {
     "iopub.execute_input": "2022-03-15T20:48:31.669533Z",
     "iopub.status.busy": "2022-03-15T20:48:31.668547Z",
     "iopub.status.idle": "2022-03-15T20:48:31.671409Z",
     "shell.execute_reply": "2022-03-15T20:48:31.671784Z",
     "shell.execute_reply.started": "2022-03-15T20:45:20.162907Z"
    },
    "papermill": {
     "duration": 0.02011,
     "end_time": "2022-03-15T20:48:31.671915",
     "exception": false,
     "start_time": "2022-03-15T20:48:31.651805",
     "status": "completed"
    },
    "tags": []
   },
   "outputs": [],
   "source": [
    "# Text preprocessing function\n",
    "\n",
    "str_punc = string.punctuation.replace(',', '').replace(\"'\",'')\n",
    "\n",
    "def clean(text):\n",
    "    global str_punc\n",
    "    text = re.sub(r'[^a-zA-Z ]', '', text)\n",
    "    text = text.lower()\n",
    "    return text    "
   ]
  },
  {
   "cell_type": "code",
   "execution_count": 5,
   "id": "0bb29fc8",
   "metadata": {},
   "outputs": [],
   "source": [
    "df_test = df_test[df_test['Emotion'].isin(['sadness','anger','joy','fear'])]\n",
    "df_val = df_val[df_val['Emotion'].isin(['sadness','anger','joy','fear'])]\n",
    "df_train = df_train[df_train['Emotion'].isin(['sadness','anger','joy','fear'])]\n",
    "\n",
    "X_train = df_train['Text'].apply(clean)\n",
    "y_train = df_train['Emotion']\n",
    "\n",
    "X_test = df_test['Text'].apply(clean)\n",
    "y_test = df_test['Emotion']\n",
    "\n",
    "X_val = df_val['Text'].apply(clean)\n",
    "y_val = df_val['Emotion']"
   ]
  },
  {
   "cell_type": "code",
   "execution_count": 6,
   "id": "67f84d82",
   "metadata": {},
   "outputs": [
    {
     "data": {
      "text/plain": [
       "0                              i didnt feel humiliated\n",
       "1    i can go from feeling so hopeless to so damned...\n",
       "2     im grabbing a minute to post i feel greedy wrong\n",
       "4                                 i am feeling grouchy\n",
       "5    ive been feeling a little burdened lately wasn...\n",
       "Name: Text, dtype: object"
      ]
     },
     "execution_count": 6,
     "metadata": {},
     "output_type": "execute_result"
    }
   ],
   "source": [
    "X_train.head()"
   ]
  },
  {
   "cell_type": "code",
   "execution_count": 7,
   "id": "132e9716",
   "metadata": {
    "execution": {
     "iopub.execute_input": "2022-03-15T20:48:31.892383Z",
     "iopub.status.busy": "2022-03-15T20:48:31.891624Z",
     "iopub.status.idle": "2022-03-15T20:48:32.609760Z",
     "shell.execute_reply": "2022-03-15T20:48:32.610144Z",
     "shell.execute_reply.started": "2022-03-15T20:46:26.974256Z"
    },
    "papermill": {
     "duration": 0.7359,
     "end_time": "2022-03-15T20:48:32.610309",
     "exception": false,
     "start_time": "2022-03-15T20:48:31.874409",
     "status": "completed"
    },
    "tags": []
   },
   "outputs": [
    {
     "data": {
      "image/png": "[encoded data removed]",
      "text/plain": [
       "<Figure size 432x288 with 1 Axes>"
      ]
     },
     "metadata": {
      "needs_background": "light"
     },
     "output_type": "display_data"
    },
    {
     "data": {
      "image/png": "[encoded data removed]",
      "text/plain": [
       "<Figure size 432x288 with 1 Axes>"
      ]
     },
     "metadata": {
      "needs_background": "light"
     },
     "output_type": "display_data"
    },
    {
     "data": {
      "image/png": "[encoded data removed]",
      "text/plain": [
       "<Figure size 432x288 with 1 Axes>"
      ]
     },
     "metadata": {
      "needs_background": "light"
     },
     "output_type": "display_data"
    }
   ],
   "source": [
    "# Visualize classes counts\n",
    "\n",
    "sns.countplot(x=y_train)\n",
    "plt.title(\"Training data - classes counts\")\n",
    "plt.show()\n",
    "\n",
    "sns.countplot(x=y_test)\n",
    "plt.title(\"Testing data - classes counts\")\n",
    "plt.show()\n",
    "\n",
    "sns.countplot(x=y_val)\n",
    "plt.title(\"Validation data - classes counts\")\n",
    "plt.show()"
   ]
  },
  {
   "cell_type": "markdown",
   "id": "867872b0",
   "metadata": {},
   "source": [
    "##### Label Encoding\n",
    "\n",
    "- Label Encoding is a popular encoding technique for handling categorical variables. \n",
    "- In this technique, each label is assigned a unique integer based on alphabetical ordering.\n",
    "\n",
    "- <img src=\"labelEncoder.jpg\">"
   ]
  },
  {
   "cell_type": "code",
   "execution_count": 8,
   "id": "0655bb06",
   "metadata": {
    "execution": {
     "iopub.execute_input": "2022-03-15T20:48:32.652122Z",
     "iopub.status.busy": "2022-03-15T20:48:32.651430Z",
     "iopub.status.idle": "2022-03-15T20:48:32.654724Z",
     "shell.execute_reply": "2022-03-15T20:48:32.654229Z",
     "shell.execute_reply.started": "2022-03-15T20:46:27.939812Z"
    },
    "papermill": {
     "duration": 0.028948,
     "end_time": "2022-03-15T20:48:32.654832",
     "exception": false,
     "start_time": "2022-03-15T20:48:32.625884",
     "status": "completed"
    },
    "tags": []
   },
   "outputs": [],
   "source": [
    "le = LabelEncoder()\n",
    "y_train = le.fit_transform(y_train)\n",
    "y_test = le.transform(y_test)\n",
    "y_val = le.transform(y_val)"
   ]
  },
  {
   "cell_type": "code",
   "execution_count": 9,
   "id": "02148b26",
   "metadata": {},
   "outputs": [
    {
     "data": {
      "text/plain": [
       "array([3, 3, 0, ..., 2, 0, 3])"
      ]
     },
     "execution_count": 9,
     "metadata": {},
     "output_type": "execute_result"
    }
   ],
   "source": [
    "y_train "
   ]
  },
  {
   "cell_type": "markdown",
   "id": "33bac443",
   "metadata": {},
   "source": [
    "##### Although It is converted to numerical form, but to establish the relationship between labels so that it could be understood by the algorithm, i have to convert it to 2D Matrix form (usually Binary Matrix)\n",
    "- We use to_categorical to transform our training data before we pass it to your model.\n",
    "- If training data uses classes as numbers, to_categorical will transform those numbers in proper vectors for using with model"
   ]
  },
  {
   "cell_type": "code",
   "execution_count": 10,
   "id": "7a5de4e8",
   "metadata": {},
   "outputs": [],
   "source": [
    "y_train = to_categorical(y_train)\n",
    "y_test = to_categorical(y_test)\n",
    "y_val = to_categorical(y_val)"
   ]
  },
  {
   "cell_type": "code",
   "execution_count": 11,
   "id": "486d1314",
   "metadata": {},
   "outputs": [
    {
     "data": {
      "text/plain": [
       "array([[0., 0., 0., 1.],\n",
       "       [0., 0., 0., 1.],\n",
       "       [1., 0., 0., 0.],\n",
       "       ...,\n",
       "       [0., 0., 1., 0.],\n",
       "       [1., 0., 0., 0.],\n",
       "       [0., 0., 0., 1.]], dtype=float32)"
      ]
     },
     "execution_count": 11,
     "metadata": {},
     "output_type": "execute_result"
    }
   ],
   "source": [
    "y_train"
   ]
  },
  {
   "cell_type": "markdown",
   "id": "6e8e3c34",
   "metadata": {},
   "source": [
    "### Tokenization\n",
    "-   Task of splitting a sequence of text into units with semantic meaning. These units are called tokens.\n",
    "-   The difficulty in tokenization lies on how to get the ideal split so that all the tokens in the text have the correct meaning, and there are no left out tokens.\n",
    "\n",
    "- <img width=\"600\" src=\"https://machinelearningknowledge.ai/wp-content/uploads/2021/01/Keras-Tokenizer-Example.png?ezimgfmt=ng:webp/ngcb1\">"
   ]
  },
  {
   "cell_type": "code",
   "execution_count": 12,
   "id": "2560976b",
   "metadata": {
    "execution": {
     "iopub.execute_input": "2022-03-15T20:48:32.717024Z",
     "iopub.status.busy": "2022-03-15T20:48:32.701548Z",
     "iopub.status.idle": "2022-03-15T20:48:33.433664Z",
     "shell.execute_reply": "2022-03-15T20:48:33.434171Z",
     "shell.execute_reply.started": "2022-03-15T20:46:27.956808Z"
    },
    "papermill": {
     "duration": 0.76415,
     "end_time": "2022-03-15T20:48:33.434335",
     "exception": false,
     "start_time": "2022-03-15T20:48:32.670185",
     "status": "completed"
    },
    "tags": []
   },
   "outputs": [],
   "source": [
    "tokenizer = Tokenizer()\n",
    "tokenizer.fit_on_texts(pd.concat([X_train, X_test], axis=0))\n",
    "\n",
    "print(tokenizer.word_index)"
   ]
  },
  {
   "cell_type": "markdown",
   "id": "b099ce2e",
   "metadata": {},
   "source": [
    "#### we can use **'texts_to_sequences()'** method to assign integers to words in a list of sentence."
   ]
  },
  {
   "cell_type": "code",
   "execution_count": 13,
   "id": "f7cf678d",
   "metadata": {},
   "outputs": [
    {
     "data": {
      "text/plain": [
       "0                              i didnt feel humiliated\n",
       "1    i can go from feeling so hopeless to so damned...\n",
       "2     im grabbing a minute to post i feel greedy wrong\n",
       "4                                 i am feeling grouchy\n",
       "5    ive been feeling a little burdened lately wasn...\n",
       "Name: Text, dtype: object"
      ]
     },
     "execution_count": 13,
     "metadata": {},
     "output_type": "execute_result"
    }
   ],
   "source": [
    "X_train.head()"
   ]
  },
  {
   "cell_type": "code",
   "execution_count": 14,
   "id": "b6dea645",
   "metadata": {},
   "outputs": [],
   "source": [
    "sequences_train = tokenizer.texts_to_sequences(X_train)\n",
    "sequences_test = tokenizer.texts_to_sequences(X_test)\n",
    "sequences_val = tokenizer.texts_to_sequences(X_val)"
   ]
  },
  {
   "cell_type": "code",
   "execution_count": 15,
   "id": "478445a9",
   "metadata": {},
   "outputs": [
    {
     "name": "stdout",
     "output_type": "stream",
     "text": [
      "i didnt feel humiliated \n",
      " [1, 137, 2, 581]\n",
      "i can go from feeling so hopeless to so damned hopeful just from being around someone who cares and is awake \n",
      " [1, 39, 98, 58, 7, 14, 473, 4, 14, 4089, 486, 30, 58, 60, 127, 155, 75, 1576, 3, 21, 1210]\n",
      "im grabbing a minute to post i feel greedy wrong \n",
      " [15, 2984, 6, 1149, 4, 292, 1, 2, 415, 383]\n"
     ]
    }
   ],
   "source": [
    "for i in range(3):\n",
    "    print(X_train[i] ,'\\n',sequences_train[i])"
   ]
  },
  {
   "cell_type": "markdown",
   "id": "8ba9c4de",
   "metadata": {},
   "source": [
    "####  **pad_sequences()** transforms a list of sequences into a 2D Numpy array."
   ]
  },
  {
   "cell_type": "code",
   "execution_count": 16,
   "id": "6b3f24a8",
   "metadata": {},
   "outputs": [
    {
     "name": "stdout",
     "output_type": "stream",
     "text": [
      "Vocabulary size = 14980\n"
     ]
    }
   ],
   "source": [
    "\n",
    "X_train = pad_sequences(sequences_train, maxlen=256, truncating='pre') # truncating='pre' => remove post padding extra than maxlen\n",
    "X_test = pad_sequences(sequences_test, maxlen=256, truncating='pre')\n",
    "X_val = pad_sequences(sequences_val, maxlen=256, truncating='pre')\n",
    "\n",
    "vocabSize = len(tokenizer.index_word) + 1\n",
    "print(f\"Vocabulary size = {vocabSize}\")"
   ]
  },
  {
   "cell_type": "code",
   "execution_count": 17,
   "id": "31aabd5d",
   "metadata": {},
   "outputs": [],
   "source": [
    "# for i in range(2):\n",
    "#     print(X_train[i])"
   ]
  },
  {
   "cell_type": "code",
   "execution_count": 18,
   "id": "493e21bf",
   "metadata": {
    "execution": {
     "iopub.execute_input": "2022-03-15T20:48:33.468504Z",
     "iopub.status.busy": "2022-03-15T20:48:33.467699Z",
     "iopub.status.idle": "2022-03-15T20:48:33.472666Z",
     "shell.execute_reply": "2022-03-15T20:48:33.472192Z",
     "shell.execute_reply.started": "2022-03-15T20:46:28.836299Z"
    },
    "papermill": {
     "duration": 0.022591,
     "end_time": "2022-03-15T20:48:33.472774",
     "exception": false,
     "start_time": "2022-03-15T20:48:33.450183",
     "status": "completed"
    },
    "tags": []
   },
   "outputs": [],
   "source": [
    "# Embedding\n",
    "max_features = 20000\n",
    "maxlen = 100\n",
    "embedding_size = 128\n",
    "\n",
    "# Convolution\n",
    "kernel_size = 5\n",
    "filters = 64\n",
    "pool_size = 4\n",
    "\n",
    "# LSTM\n",
    "lstm_output_size = 70\n",
    "\n",
    "# Training\n",
    "#batch_size = 30\n",
    "#epochs = 2"
   ]
  },
  {
   "cell_type": "code",
   "execution_count": 19,
   "id": "2c4a1c7f",
   "metadata": {
    "execution": {
     "iopub.execute_input": "2022-03-15T20:48:33.506844Z",
     "iopub.status.busy": "2022-03-15T20:48:33.506061Z",
     "iopub.status.idle": "2022-03-15T20:48:33.510849Z",
     "shell.execute_reply": "2022-03-15T20:48:33.510450Z",
     "shell.execute_reply.started": "2022-03-15T20:46:28.844171Z"
    },
    "papermill": {
     "duration": 0.022318,
     "end_time": "2022-03-15T20:48:33.510951",
     "exception": false,
     "start_time": "2022-03-15T20:48:33.488633",
     "status": "completed"
    },
    "tags": []
   },
   "outputs": [],
   "source": [
    "# Embedding Layer\n",
    "max_features = vocabSize    # number of unique words in the vocabulary\n",
    "maxlen = X_train.shape[1]   # length of each sequence or padding size\n",
    "embedding_size = 200    # uses 200 length vectors to represent each word\n",
    "\n",
    "# Convolution Layer\n",
    "kernel_size = 5 # Kernel of size 5*5 matrix\n",
    "filters = 128 # number of convolutional filters to use\n",
    "\n",
    "#Max Pooling Layer\n",
    "pool_size = 4 # size of the max pooling area\n",
    "\n",
    "# LSTM Layer\n",
    "lstm_output_size = 128\n",
    "\n",
    "# Training\n",
    "# batch_size = 30\n",
    "# epochs = 2"
   ]
  },
  {
   "cell_type": "markdown",
   "id": "9208cec2",
   "metadata": {},
   "source": [
    "#### Model Building\n",
    "- I have chosen Sequencial model because we have some sequence of inputs over space or time and the task is to predict a category for the sequence.\n",
    "- The first layer is the **Embedded layer** that uses 200 length vectors to represent each word. \n",
    "- The next layer is **Dropout layer**, i am using it because with the greater number of parameters there may be chance of causing overfitting. It prevents all neurons in a layer from synchronously optimizing their weights. It helps in increasing accuracy score. Here it can max dropout 25% bits. \n",
    "- The next layer is **Convolution layer**. Mainly used for feature extraction with respect to filters.\n",
    "    -   In Case Kernel Size = 3 then Following will be feature extracted\n",
    "    - A kernel is a small matrix, with its height and width smaller than the training dataset to be convolved. It is also known as a convolution matrix or convolution mask. \n",
    "\n",
    "    - <img src=\"https://miro.medium.com/max/658/1*ZCjPUFrB6eHPRi4eyP6aaA.gif\">\n",
    "    -   \n",
    "    - An activation function is the last component of the convolutional layer to increase the non-linearity in the output. Generally, ReLu function or Tanh function is used as an activation function in a convolution layer\n",
    "- The next layer is **Maxpooling layer**. Pooling layer is used to reduce the size of the input image and speed up computation.\n",
    "\n",
    "- <img src=\"pooling.jpg\">\n",
    "- The next layer is the **LSTM layer** with 128 memory units (smart neurons) that represent the dimensionality of outer space. It mainly used to classifying, processing and making predictions based on time series data\n",
    "- The next layer is **Dense layer**. , Since this is a classification problem we use a Dense output layer with a single neuron and a sigmoid activation function to make 0 or 1 predictions for the each emotions.\n",
    "- **Softmax** converts a vector of values to a probability distribution. The elements of the output vector are in range (0, 1) and sum to 1."
   ]
  },
  {
   "cell_type": "code",
   "execution_count": 20,
   "id": "04183ec6",
   "metadata": {
    "execution": {
     "iopub.execute_input": "2022-03-15T20:48:33.547150Z",
     "iopub.status.busy": "2022-03-15T20:48:33.546573Z",
     "iopub.status.idle": "2022-03-15T20:48:36.213873Z",
     "shell.execute_reply": "2022-03-15T20:48:36.213247Z",
     "shell.execute_reply.started": "2022-03-15T20:46:28.858299Z"
    },
    "papermill": {
     "duration": 2.687831,
     "end_time": "2022-03-15T20:48:36.214005",
     "exception": false,
     "start_time": "2022-03-15T20:48:33.526174",
     "status": "completed"
    },
    "tags": []
   },
   "outputs": [
    {
     "name": "stdout",
     "output_type": "stream",
     "text": [
      "Build model...\n",
      "Model: \"sequential\"\n",
      "_________________________________________________________________\n",
      " Layer (type)                Output Shape              Param #   \n",
      "=================================================================\n",
      " embedding (Embedding)       (None, 256, 200)          2996000   \n",
      "                                                                 \n",
      " dropout (Dropout)           (None, 256, 200)          0         \n",
      "                                                                 \n",
      " conv1d (Conv1D)             (None, 252, 128)          128128    \n",
      "                                                                 \n",
      " max_pooling1d (MaxPooling1D  (None, 63, 128)          0         \n",
      " )                                                               \n",
      "                                                                 \n",
      " lstm (LSTM)                 (None, 128)               131584    \n",
      "                                                                 \n",
      " dense (Dense)               (None, 4)                 516       \n",
      "                                                                 \n",
      " activation (Activation)     (None, 4)                 0         \n",
      "                                                                 \n",
      "=================================================================\n",
      "Total params: 3,256,228\n",
      "Trainable params: 3,256,228\n",
      "Non-trainable params: 0\n",
      "_________________________________________________________________\n"
     ]
    }
   ],
   "source": [
    "print('Build model...')\n",
    "\n",
    "model = Sequential()\n",
    "model.add(Embedding(vocabSize, embedding_size, input_length=maxlen)) # 1st Layer - Embedding\n",
    "model.add(Dropout(0.25))                                             # 2nd Layer - Dropout\n",
    "model.add(Conv1D(filters,                                            # 3rd Layer - Convolution\n",
    "                 kernel_size,\n",
    "                 padding='valid',\n",
    "                 activation='relu',\n",
    "                 strides=1))\n",
    "model.add(MaxPooling1D(pool_size=pool_size))                         # 4th Layer - MaxPooling\n",
    "model.add(LSTM(lstm_output_size))                                    # 5th Layer - LSTM     \n",
    "model.add(Dense(4))                                                  # 6th Layer - Dense\n",
    "model.add(Activation('softmax'))                                     # 7th Layer - Activation    \n",
    "\n",
    "model.summary()"
   ]
  },
  {
   "cell_type": "code",
   "execution_count": 24,
   "id": "e9fd18d1",
   "metadata": {
    "execution": {
     "iopub.execute_input": "2022-03-15T20:48:36.255923Z",
     "iopub.status.busy": "2022-03-15T20:48:36.255118Z",
     "iopub.status.idle": "2022-03-15T20:48:36.261303Z",
     "shell.execute_reply": "2022-03-15T20:48:36.260820Z",
     "shell.execute_reply.started": "2022-03-15T20:46:32.015326Z"
    },
    "papermill": {
     "duration": 0.030881,
     "end_time": "2022-03-15T20:48:36.261426",
     "exception": false,
     "start_time": "2022-03-15T20:48:36.230545",
     "status": "completed"
    },
    "tags": []
   },
   "outputs": [],
   "source": [
    "adam = Adam(learning_rate=0.005)\n",
    "#model.compile(loss='mean_squared_error', optimizer=adam, metrics=['accuracy'])\n",
    "#model.compile(loss='binary_crossentropy', optimizer=adam, metrics=['accuracy'])\n",
    "model.compile(loss='categorical_crossentropy', optimizer=adam, metrics=['accuracy'])\n"
   ]
  },
  {
   "cell_type": "code",
   "execution_count": 25,
   "id": "5f29256f",
   "metadata": {
    "execution": {
     "iopub.execute_input": "2022-03-15T20:48:36.297963Z",
     "iopub.status.busy": "2022-03-15T20:48:36.297324Z",
     "iopub.status.idle": "2022-03-15T20:48:36.300000Z",
     "shell.execute_reply": "2022-03-15T20:48:36.299571Z",
     "shell.execute_reply.started": "2022-03-15T20:46:32.035238Z"
    },
    "papermill": {
     "duration": 0.022344,
     "end_time": "2022-03-15T20:48:36.300113",
     "exception": false,
     "start_time": "2022-03-15T20:48:36.277769",
     "status": "completed"
    },
    "tags": []
   },
   "outputs": [],
   "source": [
    "callback = EarlyStopping(\n",
    "    monitor=\"val_loss\",\n",
    "    patience=3,\n",
    "    restore_best_weights=True,\n",
    ")"
   ]
  },
  {
   "cell_type": "code",
   "execution_count": 23,
   "id": "40a02f3a",
   "metadata": {},
   "outputs": [],
   "source": [
    "#Dumping The Model ===========================================PENDING\n",
    "from keras.callbacks import ModelCheckpoint\n",
    "model_file_name = 'model_emotion.h5'\n",
    "best_model = ModelCheckpoint(model_file_name, monitor='val_loss', verbose=1, save_best_only=True, mode='min')\n"
   ]
  },
  {
   "cell_type": "markdown",
   "id": "e7000e37",
   "metadata": {},
   "source": [
    "### Fitting the Model with Epochs = 30 , Batch size of 256"
   ]
  },
  {
   "cell_type": "code",
   "execution_count": 26,
   "id": "ea36959c",
   "metadata": {
    "execution": {
     "iopub.execute_input": "2022-03-15T20:48:36.337831Z",
     "iopub.status.busy": "2022-03-15T20:48:36.337298Z",
     "iopub.status.idle": "2022-03-15T20:48:58.398948Z",
     "shell.execute_reply": "2022-03-15T20:48:58.398436Z",
     "shell.execute_reply.started": "2022-03-15T20:46:32.044212Z"
    },
    "papermill": {
     "duration": 22.082274,
     "end_time": "2022-03-15T20:48:58.399073",
     "exception": false,
     "start_time": "2022-03-15T20:48:36.316799",
     "status": "completed"
    },
    "tags": []
   },
   "outputs": [
    {
     "name": "stdout",
     "output_type": "stream",
     "text": [
      "Epoch 1/30\n",
      "56/56 [==============================] - 99s 2s/step - loss: 0.8605 - accuracy: 0.6239 - val_loss: 0.4181 - val_accuracy: 0.8242\n",
      "Epoch 2/30\n",
      "56/56 [==============================] - 97s 2s/step - loss: 0.2165 - accuracy: 0.9275 - val_loss: 0.2075 - val_accuracy: 0.9265\n",
      "Epoch 3/30\n",
      "56/56 [==============================] - 97s 2s/step - loss: 0.0721 - accuracy: 0.9757 - val_loss: 0.1975 - val_accuracy: 0.9368\n",
      "Epoch 4/30\n",
      "56/56 [==============================] - 97s 2s/step - loss: 0.0336 - accuracy: 0.9889 - val_loss: 0.1786 - val_accuracy: 0.9414\n",
      "Epoch 5/30\n",
      "56/56 [==============================] - 97s 2s/step - loss: 0.0191 - accuracy: 0.9928 - val_loss: 0.2276 - val_accuracy: 0.9374\n",
      "Epoch 6/30\n",
      "56/56 [==============================] - 96s 2s/step - loss: 0.0132 - accuracy: 0.9955 - val_loss: 0.2133 - val_accuracy: 0.9431\n",
      "Epoch 7/30\n",
      "56/56 [==============================] - 94s 2s/step - loss: 0.0162 - accuracy: 0.9945 - val_loss: 0.2235 - val_accuracy: 0.9454\n"
     ]
    }
   ],
   "source": [
    "# Fit model\n",
    "history = model.fit(X_train,\n",
    "                    y_train,\n",
    "                    validation_data=(X_val, y_val),\n",
    "                    verbose=1,\n",
    "                    batch_size=256,\n",
    "                    epochs=30,\n",
    "                    callbacks=[callback]\n",
    "                   )"
   ]
  },
  {
   "cell_type": "code",
   "execution_count": 27,
   "id": "d42850ea",
   "metadata": {},
   "outputs": [
    {
     "name": "stdout",
     "output_type": "stream",
     "text": [
      "<keras.engine.sequential.Sequential object at 0x000002794D0B2B38>\n"
     ]
    }
   ],
   "source": [
    "print(model)"
   ]
  },
  {
   "cell_type": "code",
   "execution_count": 28,
   "id": "458661c5",
   "metadata": {},
   "outputs": [],
   "source": [
    "layer_outputs = [layer.output for layer in model.layers]"
   ]
  },
  {
   "cell_type": "code",
   "execution_count": 29,
   "id": "1b96e12a",
   "metadata": {},
   "outputs": [
    {
     "data": {
      "text/plain": [
       "[<KerasTensor: shape=(None, 256, 200) dtype=float32 (created by layer 'embedding')>,\n",
       " <KerasTensor: shape=(None, 256, 200) dtype=float32 (created by layer 'dropout')>,\n",
       " <KerasTensor: shape=(None, 252, 128) dtype=float32 (created by layer 'conv1d')>,\n",
       " <KerasTensor: shape=(None, 63, 128) dtype=float32 (created by layer 'max_pooling1d')>,\n",
       " <KerasTensor: shape=(None, 128) dtype=float32 (created by layer 'lstm')>,\n",
       " <KerasTensor: shape=(None, 4) dtype=float32 (created by layer 'dense')>,\n",
       " <KerasTensor: shape=(None, 4) dtype=float32 (created by layer 'activation')>]"
      ]
     },
     "execution_count": 29,
     "metadata": {},
     "output_type": "execute_result"
    }
   ],
   "source": [
    "layer_outputs"
   ]
  },
  {
   "cell_type": "code",
   "execution_count": 52,
   "id": "86b9ddad",
   "metadata": {},
   "outputs": [
    {
     "name": "stdout",
     "output_type": "stream",
     "text": [
      "I am enjoy\n",
      "1/1 [==============================] - 1s 593ms/step\n"
     ]
    }
   ],
   "source": [
    "from keras.models import Model\n",
    "activation_model = Model(inputs=model.input, outputs=layer_outputs)\n",
    "activations = activation_model.predict(predict('I am enjoy'))\n",
    "layer0 = activations[0]\n"
   ]
  },
  {
   "cell_type": "markdown",
   "id": "0695955a",
   "metadata": {},
   "source": [
    "## Final evaluation of the model\n",
    "- verbose=0 will show nothing (silent)\n",
    "\n",
    "- verbose=1 will show an animated progress bar like this:\n",
    "- <img src=\"https://i.stack.imgur.com/s43II.png\">\n",
    "- verbose=2 will just mention the number of epoch like this: Epoch 1/50"
   ]
  },
  {
   "cell_type": "code",
   "execution_count": 32,
   "id": "06058f13",
   "metadata": {
    "execution": {
     "iopub.execute_input": "2022-03-15T20:48:58.559825Z",
     "iopub.status.busy": "2022-03-15T20:48:58.559040Z",
     "iopub.status.idle": "2022-03-15T20:49:19.120918Z",
     "shell.execute_reply": "2022-03-15T20:49:19.120456Z",
     "shell.execute_reply.started": "2022-03-15T20:46:52.192970Z"
    },
    "papermill": {
     "duration": 20.642412,
     "end_time": "2022-03-15T20:49:19.121047",
     "exception": false,
     "start_time": "2022-03-15T20:48:58.478635",
     "status": "completed"
    },
    "tags": []
   },
   "outputs": [
    {
     "name": "stdout",
     "output_type": "stream",
     "text": [
      "56/56 [==============================] - 3s 50ms/step - loss: 0.1751 - accuracy: 0.9515\n",
      "Final Accuracy : 95.15%\n",
      "Final Loss : 17.51%\n"
     ]
    }
   ],
   "source": [
    "scores = model.evaluate(X_test, y_test, verbose=1) \n",
    "print(\"Final Accuracy : %.2f%%\" %(scores[1]*100))\n",
    "print(\"Final Loss : %.2f%%\" % (scores[0]*100))"
   ]
  },
  {
   "cell_type": "code",
   "execution_count": 33,
   "id": "184ac3aa",
   "metadata": {
    "execution": {
     "iopub.execute_input": "2022-03-15T20:49:19.301356Z",
     "iopub.status.busy": "2022-03-15T20:49:19.300506Z",
     "iopub.status.idle": "2022-03-15T20:49:19.524883Z",
     "shell.execute_reply": "2022-03-15T20:49:19.525562Z",
     "shell.execute_reply.started": "2022-03-15T20:47:38.223117Z"
    },
    "papermill": {
     "duration": 0.320847,
     "end_time": "2022-03-15T20:49:19.525726",
     "exception": false,
     "start_time": "2022-03-15T20:49:19.204879",
     "status": "completed"
    },
    "tags": []
   },
   "outputs": [
    {
     "data": {
      "image/png": "[encoded data removed]",
      "text/plain": [
       "<Figure size 576x360 with 1 Axes>"
      ]
     },
     "metadata": {
      "needs_background": "light"
     },
     "output_type": "display_data"
    }
   ],
   "source": [
    "plt.figure(figsize=(8,5))\n",
    "plt.plot(history.history['accuracy'])\n",
    "plt.plot(history.history['val_accuracy'])\n",
    "plt.title('model accuracy')\n",
    "plt.ylabel('accuracy')\n",
    "plt.xlabel('epoch')\n",
    "plt.legend(['train', 'Validation'], loc='upper left')\n",
    "plt.show()"
   ]
  },
  {
   "cell_type": "code",
   "execution_count": 34,
   "id": "0ad863fb",
   "metadata": {
    "execution": {
     "iopub.execute_input": "2022-03-15T20:49:19.749994Z",
     "iopub.status.busy": "2022-03-15T20:49:19.749155Z",
     "iopub.status.idle": "2022-03-15T20:49:19.939990Z",
     "shell.execute_reply": "2022-03-15T20:49:19.940716Z",
     "shell.execute_reply.started": "2022-03-15T20:47:53.805131Z"
    },
    "papermill": {
     "duration": 0.33591,
     "end_time": "2022-03-15T20:49:19.940878",
     "exception": false,
     "start_time": "2022-03-15T20:49:19.604968",
     "status": "completed"
    },
    "tags": []
   },
   "outputs": [
    {
     "data": {
      "image/png": "[encoded data removed]",
      "text/plain": [
       "<Figure size 576x360 with 1 Axes>"
      ]
     },
     "metadata": {
      "needs_background": "light"
     },
     "output_type": "display_data"
    }
   ],
   "source": [
    "plt.figure(figsize=(8,5))\n",
    "plt.plot(history.history['loss'])\n",
    "plt.plot(history.history['val_loss'])\n",
    "plt.title('Loss Function')\n",
    "plt.ylabel('Loss')\n",
    "plt.xlabel('epoch')\n",
    "plt.legend(['train', 'Validation'], loc='upper left')\n",
    "plt.show()\n"
   ]
  },
  {
   "cell_type": "code",
   "execution_count": 35,
   "id": "46f4fcf4",
   "metadata": {
    "execution": {
     "iopub.execute_input": "2022-03-15T20:49:20.114539Z",
     "iopub.status.busy": "2022-03-15T20:49:20.113717Z",
     "iopub.status.idle": "2022-03-15T20:49:20.116148Z",
     "shell.execute_reply": "2022-03-15T20:49:20.115743Z",
     "shell.execute_reply.started": "2022-03-15T20:47:58.596752Z"
    },
    "papermill": {
     "duration": 0.092544,
     "end_time": "2022-03-15T20:49:20.116263",
     "exception": false,
     "start_time": "2022-03-15T20:49:20.023719",
     "status": "completed"
    },
    "tags": []
   },
   "outputs": [],
   "source": [
    "# Classify custom sample\n",
    "def predict(sentence,modelxx):\n",
    "    # print(sentence)\n",
    "    sentence = clean(sentence)\n",
    "    sentence = tokenizer.texts_to_sequences([sentence])\n",
    "    sentence = pad_sequences(sentence, maxlen=256, truncating='pre')\n",
    "    result = le.inverse_transform(np.argmax(modelxx.predict(sentence), axis=-1))[0]\n",
    "    proba =  np.max(modelxx.predict(sentence))\n",
    "    print(f\"{result} : {proba}\\n\\n\")"
   ]
  },
  {
   "cell_type": "code",
   "execution_count": 9,
   "id": "f1daa85f",
   "metadata": {},
   "outputs": [],
   "source": [
    "# print(predict('i feel like a miserable piece of garbage'))"
   ]
  },
  {
   "cell_type": "code",
   "execution_count": 75,
   "id": "5917edfb",
   "metadata": {
    "execution": {
     "iopub.execute_input": "2022-03-15T20:49:20.296551Z",
     "iopub.status.busy": "2022-03-15T20:49:20.295723Z",
     "iopub.status.idle": "2022-03-15T20:49:20.376429Z",
     "shell.execute_reply": "2022-03-15T20:49:20.376987Z",
     "shell.execute_reply.started": "2022-03-15T20:48:03.942866Z"
    },
    "papermill": {
     "duration": 0.180132,
     "end_time": "2022-03-15T20:49:20.377158",
     "exception": false,
     "start_time": "2022-03-15T20:49:20.197026",
     "status": "completed"
    },
    "tags": []
   },
   "outputs": [],
   "source": [
    "# Saving The Model\n",
    "import pickle\n",
    "with open('tokenizer.pickle', 'wb') as f:\n",
    "    pickle.dump(tokenizer, f)\n",
    "    \n",
    "with open('labelEncoder.pickle', 'wb') as f:\n",
    "    pickle.dump(le, f)\n",
    "    \n",
    "    \n",
    "model.save('Emotion Detection.h5')"
   ]
  },
  {
   "cell_type": "code",
   "execution_count": 37,
   "id": "c66b57f4",
   "metadata": {},
   "outputs": [
    {
     "name": "stdout",
     "output_type": "stream",
     "text": [
      "1/1 [==============================] - 0s 496ms/step\n",
      "1/1 [==============================] - 0s 30ms/step\n",
      "sadness : 0.9996752738952637\n",
      "\n",
      "\n"
     ]
    },
    {
     "data": {
      "text/plain": [
       "array([[   0,    0,    0,    0,    0,    0,    0,    0,    0,    0,    0,\n",
       "           0,    0,    0,    0,    0,    0,    0,    0,    0,    0,    0,\n",
       "           0,    0,    0,    0,    0,    0,    0,    0,    0,    0,    0,\n",
       "           0,    0,    0,    0,    0,    0,    0,    0,    0,    0,    0,\n",
       "           0,    0,    0,    0,    0,    0,    0,    0,    0,    0,    0,\n",
       "           0,    0,    0,    0,    0,    0,    0,    0,    0,    0,    0,\n",
       "           0,    0,    0,    0,    0,    0,    0,    0,    0,    0,    0,\n",
       "           0,    0,    0,    0,    0,    0,    0,    0,    0,    0,    0,\n",
       "           0,    0,    0,    0,    0,    0,    0,    0,    0,    0,    0,\n",
       "           0,    0,    0,    0,    0,    0,    0,    0,    0,    0,    0,\n",
       "           0,    0,    0,    0,    0,    0,    0,    0,    0,    0,    0,\n",
       "           0,    0,    0,    0,    0,    0,    0,    0,    0,    0,    0,\n",
       "           0,    0,    0,    0,    0,    0,    0,    0,    0,    0,    0,\n",
       "           0,    0,    0,    0,    0,    0,    0,    0,    0,    0,    0,\n",
       "           0,    0,    0,    0,    0,    0,    0,    0,    0,    0,    0,\n",
       "           0,    0,    0,    0,    0,    0,    0,    0,    0,    0,    0,\n",
       "           0,    0,    0,    0,    0,    0,    0,    0,    0,    0,    0,\n",
       "           0,    0,    0,    0,    0,    0,    0,    0,    0,    0,    0,\n",
       "           0,    0,    0,    0,    0,    0,    0,    0,    0,    0,    0,\n",
       "           0,    0,    0,    0,    0,    0,    0,    0,    0,    0,    0,\n",
       "           0,    0,    0,    0,    0,    0,    0,    0,    0,    0,    0,\n",
       "           0,    0,    0,    0,    0,    0,    0,    0,    0,    0,    0,\n",
       "           0,    0,    0,    0,    0,    0,    1,    2,   13,    6,  359,\n",
       "         911,    9, 3001]])"
      ]
     },
     "execution_count": 37,
     "metadata": {},
     "output_type": "execute_result"
    }
   ],
   "source": [
    "from keras.models import load_model\n",
    "\n",
    "model2 = load_model('Emotion Detection.h5')\n",
    "predict('i feel like a miserable piece of garbage',model2)"
   ]
  },
  {
   "cell_type": "code",
   "execution_count": 79,
   "id": "f71d3341",
   "metadata": {
    "papermill": {
     "duration": 0.080767,
     "end_time": "2022-03-15T20:49:20.539357",
     "exception": false,
     "start_time": "2022-03-15T20:49:20.458590",
     "status": "completed"
    },
    "tags": []
   },
   "outputs": [
    {
     "name": "stdout",
     "output_type": "stream",
     "text": [
      "i feel humiliated\n",
      "1/1 [==============================] - 0s 31ms/step\n",
      "1/1 [==============================] - 0s 30ms/step\n",
      "sadness : 0.9996845722198486\n",
      "\n",
      "\n"
     ]
    }
   ],
   "source": [
    "predict('i feel humiliated')\n",
    "# predict('i feel very happy and excited since i learned so many things')"
   ]
  }
 ],
 "metadata": {
  "interpreter": {
   "hash": "2b4ce8ea7108efd0213b1656aac2835a3e06a0a8f01011b4ae08d5aba42f4ba7"
  },
  "kernelspec": {
   "display_name": "Python 3.7.0 64-bit",
   "language": "python",
   "name": "python3"
  },
  "language_info": {
   "codemirror_mode": {
    "name": "ipython",
    "version": 3
   },
   "file_extension": ".py",
   "mimetype": "text/x-python",
   "name": "python",
   "nbconvert_exporter": "python",
   "pygments_lexer": "ipython3",
   "version": "3.7.2"
  },
  "papermill": {
   "default_parameters": {},
   "duration": 65.734733,
   "end_time": "2022-03-15T20:49:23.730938",
   "environment_variables": {},
   "exception": null,
   "input_path": "__notebook__.ipynb",
   "output_path": "__notebook__.ipynb",
   "parameters": {},
   "start_time": "2022-03-15T20:48:17.996205",
   "version": "2.3.3"
  }
 },
 "nbformat": 4,
 "nbformat_minor": 5
}
